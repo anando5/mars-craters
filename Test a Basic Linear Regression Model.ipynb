{
 "cells": [
  {
   "cell_type": "markdown",
   "metadata": {},
   "source": [
    "## Test a Basic Linear Regression Model\n",
    "\n"
   ]
  },
  {
   "cell_type": "code",
   "execution_count": 6,
   "metadata": {
    "collapsed": true
   },
   "outputs": [],
   "source": [
    "import numpy as numpyp\n",
    "import pandas as pandas\n",
    "import statsmodels.api\n",
    "import statsmodels.formula.api as smf\n",
    "import seaborn\n",
    "import matplotlib.pyplot as plt\n",
    "%matplotlib inline"
   ]
  },
  {
   "cell_type": "code",
   "execution_count": 7,
   "metadata": {
    "collapsed": true
   },
   "outputs": [],
   "source": [
    "# bug fix for display formats to avoid run time errors\n",
    "pandas.set_option('display.float_format', lambda x:'%.2f'%x)"
   ]
  },
  {
   "cell_type": "code",
   "execution_count": 8,
   "metadata": {
    "collapsed": true
   },
   "outputs": [],
   "source": [
    "data = pandas.read_csv('crateres.csv')"
   ]
  },
  {
   "cell_type": "code",
   "execution_count": 12,
   "metadata": {
    "collapsed": true
   },
   "outputs": [],
   "source": [
    "sub1 = data[(data[\"DIAM_CIRCLE_IMAGE\"])>= 0]\n",
    "sub2 = sub1.copy()"
   ]
  },
  {
   "cell_type": "code",
   "execution_count": 13,
   "metadata": {
    "collapsed": true
   },
   "outputs": [],
   "source": [
    "# convert variables to numeric format using convert_objects function\n",
    "data['DIAM_CIRCLE_IMAGE'] = pandas.to_numeric(data['DIAM_CIRCLE_IMAGE'], errors='coerce')\n",
    "data['DEPTH_RIMFLOOR_TOPOG'] = pandas.to_numeric(data['DEPTH_RIMFLOOR_TOPOG'], errors='coerce')"
   ]
  },
  {
   "cell_type": "code",
   "execution_count": 14,
   "metadata": {
    "collapsed": false
   },
   "outputs": [
    {
     "name": "stdout",
     "output_type": "stream",
     "text": [
      "       DIAM_CIRCLE_IMAGE\n",
      "count            4999.00\n",
      "mean                0.00\n",
      "std                 5.32\n",
      "min                -2.15\n",
      "25%                -1.87\n",
      "50%                -1.36\n",
      "75%                -0.30\n",
      "max                78.74\n"
     ]
    }
   ],
   "source": [
    "#centered variable\n",
    "sub2['DIAM_CIRCLE_IMAGE'] =(sub2['DIAM_CIRCLE_IMAGE'] - sub2['DIAM_CIRCLE_IMAGE'].mean())\n",
    "Centered_Variable = sub2[['DIAM_CIRCLE_IMAGE']].describe()\n",
    "print (Centered_Variable)"
   ]
  },
  {
   "cell_type": "code",
   "execution_count": 15,
   "metadata": {
    "collapsed": false
   },
   "outputs": [
    {
     "name": "stdout",
     "output_type": "stream",
     "text": [
      "Axes(0.125,0.125;0.775x0.775)\n"
     ]
    },
    {
     "data": {
      "image/png": "[encoded data removed]",
      "text/plain": [
       "<matplotlib.figure.Figure at 0x768ee30>"
      ]
     },
     "metadata": {},
     "output_type": "display_data"
    }
   ],
   "source": [
    "scat2 = seaborn.regplot(x=\"DEPTH_RIMFLOOR_TOPOG\", y=\"DIAM_CIRCLE_IMAGE\", scatter=True, data=sub2)\n",
    "plt.xlabel('DEPTH_RIMFLOOR_TOPOG')\n",
    "plt.ylabel('DIAM_CIRCLE_IMAGE')\n",
    "plt.title ('Scatterplot for the Association Between DEPTH_RIMFLOOR_TOPOG and DIAM_CIRCLE_IMAGE')\n",
    "print(scat2)\n",
    "plt.show()"
   ]
  },
  {
   "cell_type": "code",
   "execution_count": 16,
   "metadata": {
    "collapsed": false
   },
   "outputs": [
    {
     "name": "stdout",
     "output_type": "stream",
     "text": [
      "OLS regression model for for the Association Between DEPTH_RIMFLOOR_TOPOG and DIAM_CIRCLE_IMAGE\n",
      "                            OLS Regression Results                            \n",
      "==============================================================================\n",
      "Dep. Variable:      DIAM_CIRCLE_IMAGE   R-squared:                       0.319\n",
      "Model:                            OLS   Adj. R-squared:                  0.319\n",
      "Method:                 Least Squares   F-statistic:                     2338.\n",
      "Date:                Sun, 03 Jul 2016   Prob (F-statistic):               0.00\n",
      "Time:                        20:36:33   Log-Likelihood:                -14487.\n",
      "No. Observations:                4999   AIC:                         2.898e+04\n",
      "Df Residuals:                    4997   BIC:                         2.899e+04\n",
      "Df Model:                           1                                         \n",
      "Covariance Type:            nonrobust                                         \n",
      "========================================================================================\n",
      "                           coef    std err          t      P>|t|      [95.0% Conf. Int.]\n",
      "----------------------------------------------------------------------------------------\n",
      "Intercept               -0.6964      0.064    -10.929      0.000        -0.821    -0.572\n",
      "DEPTH_RIMFLOOR_TOPOG    23.0169      0.476     48.355      0.000        22.084    23.950\n",
      "==============================================================================\n",
      "Omnibus:                     7514.058   Durbin-Watson:                   0.449\n",
      "Prob(Omnibus):                  0.000   Jarque-Bera (JB):          2934159.135\n",
      "Skew:                           9.325   Prob(JB):                         0.00\n",
      "Kurtosis:                     120.213   Cond. No.                         7.67\n",
      "==============================================================================\n",
      "\n",
      "Warnings:\n",
      "[1] Standard Errors assume that the covariance matrix of the errors is correctly specified.\n"
     ]
    }
   ],
   "source": [
    "print (\"OLS regression model for for the Association Between DEPTH_RIMFLOOR_TOPOG and DIAM_CIRCLE_IMAGE\")\n",
    "reg1 = smf.ols('DIAM_CIRCLE_IMAGE ~ DEPTH_RIMFLOOR_TOPOG', data=sub2).fit()\n",
    "print (reg1.summary())\n",
    "plt.show()"
   ]
  },
  {
   "cell_type": "code",
   "execution_count": null,
   "metadata": {
    "collapsed": true
   },
   "outputs": [],
   "source": []
  }
 ],
 "metadata": {
  "kernelspec": {
   "display_name": "Python 3",
   "language": "python",
   "name": "python3"
  },
  "language_info": {
   "codemirror_mode": {
    "name": "ipython",
    "version": 3
   },
   "file_extension": ".py",
   "mimetype": "text/x-python",
   "name": "python",
   "nbconvert_exporter": "python",
   "pygments_lexer": "ipython3",
   "version": "3.4.3"
  }
 },
 "nbformat": 4,
 "nbformat_minor": 0
}
